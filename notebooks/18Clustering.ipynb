{
 "cells": [
  {
   "cell_type": "markdown",
   "metadata": {},
   "source": [
    "___\n",
    "<img style=\"float: right; margin: 0px 0px 15px 15px;\" src=\"data:image/png;base64,iVBORw0KGgoAAAANSUhEUgAAATwAAACfCAMAAABTJJXAAAABgFBMVEX///8FWmgAAAAAVmUAeIxykppUf4i7AAD47OxbsgDHS07tzs7XiozeoKLPbXDmuLkAcYYffpGwydAAlcmYyQBQrgAAUF9NrQAAj8bBJy3v8vMATFza4eMlZHGwwMSRxgBxo7DJ2t/s9/zAwMBtbW3s7Oz6/fb7/fOhoaHR0dFCQkK/Fx/e8uHt9uYAa4IAi8V6enooruNSUlKQkJAlJSWwsLDM5rXY7Meu3rRiwm5SvWC44r3O69JEuVQAot/N6/iFhYUzMzPf8vtpwOkAQ1WTsrjC1dnb5uiEn6XGPkLp9d6Gzo5quR2T05owtETB3na63Z+Vy2uIxlDd7bWi1/G34PQhoM+m04Pe782T0O4UFBReXl5ItubLXF9oi5Q8d4IAN0ugusDrwMG9CBTkrK3YhIfemJp4vzit14hyxnwTri8Aqhi622PS55+w1UXB3XrO5ZNHlaWGuMI7kaGkz9aw1k94sbx6xuu22aOkaGpjAAAiAABRAACEOTzGk5SSb3CWnryKAAAVbklEQVR4nO2di1/ayNrHIyhbbE+LKKAI1qDGeqEV79eiIIlFcAW1YrVyqLWop+1Wa+vueS/nX39nJveQCQmZiN2X32e3xiSE8Ztn5rlkklBUSy211FJLLbXU0i+ukdMOAjoN30tjSTSVby9LpD2RTTcBbd4PvGiQRGOB+geItCfS30ZA/fcEj0RboYIE4bmDwaCbP6y7363+HrcbbEZfCBc0G5sHLxiEbQ0GVUjcbaiBsL3qLQ7Cc0f9fv8Wj+o0klF9rTuz1e9hwaqofyvoYcv69O4dnrtScbvLkUymrGgFG3UPnIJT3OEvuyuZ+4LnoTynVEewLep2s/6oG/wAsNxt0TZwKtmBcjgDWlSmuCBLbcGdAG34D7RKuNAEeO5ymAIE2DaqA7ShDTWmLRqOVjiwS9BPbUUprg1u4P8ItEvUMXgdGS7q4Vh/mQp7aI6LVsLUKctyZXeQpanMJugFZYouR7gOD83Sm2BLZotjKU8HzWXcTYAXzPj9mXI4XKG4KGxmhQMUo2GWAs4g2O+nWdCwqB9s8HD+cDnChlmwW7jsELxMhjvl/Fvhsj+Tof9ZoQfYzUx4KzIQBF/jD0ej/grYh2XpDrATVfZssfRWeHNgYIvLnDYDXlu4kuHcFf8/Kc8WaGZlgIZjDUVzlf4Of4ffT9M3HNzAtnVkqNPIVhswCX8m6hC8zX7WT1c8mTY/MKl+PztQ6c9wnkEPsLyBfppty2yVKYCP7qD9nkyZ68jQWyMAnuc0wzWh27o7wpUK5an4N6nTwTBo5gDbD7ttuQxObMbjz9CUhxsMnw56Mmw5fBrpaIM7hbfcTsADXZLmPGWOZdsGMm0sMPlKJggMPQLgAYzlcDkYjFL9YQ/bUabBThG2wm3Rm5XKaYT2N8HygpXMJvj2TGWT5cDoQnsqA9DyuGiw4g8G+yuZLbpMg25Le7a4AXaQPW3jyqB3e5yAB0fTKIwdo9D/twVhLIocvhs5fmE8dqMFtBPaEZkAaEdTvK3QLvhPP/Jv8iqpqbD9aBf0X1DejSw82/p/GySTSHfuKz0j0VYoQukZ8OYEVL4feKck2opEpjDQUkstCfr0qNkt+IX15mOzW6DR41/nbH4462x2EzQ6/9TsFphW58TEh2a3QaVHE33NboJZfZjo63vT7Eao9Gni7KENJDi96evrO3vW7FYo9Ai0qPPXGPU+ngF4fW8eUGM/ga7wa5jeoz7Q1L6JsyfNboikR30P7Wxi1Xl2/rjz2bPO3x5Mx30/AXX2tNntqK8PkFnnY3C+//FATvXH3zo/PT1/8ubhnE1jQXgPRY+fggj5yT+oRx+ePpCzWUcPCR4SgAfUgteQeHgktDA/SupQGP1t4THVQMAbJ3MsnP628HYDXm9gl8yxcPrbwit6W/Aa1iGwvFCWzLFw+tvCGy16qwv84q43dEHmoBr9beEBl8HwP+HoF1ogdVSlnIAntrohkYMnqurY6EcUHhNfyV9eLgFd5hcnG0PoDLyHbnnxxcu1q+XtxVWolfzy1Vp+soHDkIc3HwqECvzibrVYInhkQvCYlaV/LS2uqtatbl9dWsdHHh4VnxeIHYa8gRzBwJkIvPj2ztKiTi9l8jt5q8eyBS++e2HAJp7zkg1fCMCL59cucQPc5PKlxaHPDrx4NWSUkmUhPO+Dgre4Y9Q5maUla/TswCvUSckKYPQjGfHZhbe6traqu2F0b49fWFqydEA78OoGJfO7RL2uPXjM9tWi/pZSz/Pnn/nFZUvjnh140CHI3bZUcjg7swdvcnlJ7rGlL3uKDvq1p6fnOV9Pm7yy4uDswBstVIsSsGIgRHJ805MdeKs7eRnXHjC13+VtEF6PsHV728JBSYUq8yHQhQ/JHAsnG/AWr1bkXxgIq0cu3e4BwxMGPWB6FnwGKXjIefCxccmpmmjj8PJXSifLw1OsGC3JJNcwA6OeiBVDQ0JSFs8FAs4UVRqHl19TBygLPT1fcUPM4qX54xIrwxdyVeR4q7Co4oztNQpPyw6YWhx7vWV12Xy/JZeeCe0JEU4rFGoQ3uKOqaw1/sePbwz0yubPPPHcFsLzEj6moMbgrV6ZYjf69XnP8z9AF6oxU7yIw5sPhXIOhSwNwZvcWam/EwUjZaAf9wBvdLfwJ3Yj49gFyEbgMXzO8K2n55vxjvEeYHlfnIfHFEOOeVQjNQIvj3L9L89BKIf6w+heCeMQSp9/AHaOw4MBsbdq/XN21QC8SX7A+wzhwSpjFqaxhu7UaYdxAaIRb9H65+yqAXhCor/3/PlzlFJAij38kPy7KkWTtGqhLNUIvGwASFMvAXmuor5SWnDCZ1iHt7IjLOx9+4YiKRke6sl7tR/JW0huG3IYC4WCttYEYmO5OnXo9eZIXrwQZBkes7xCqe0I+tQvaOkbBt7y/adnWWV4twCLBA50a8vwVteY3398Vo1ho1nhV1jE+1qbZzBWalJOwINTL5xwKJbhLS0C+xLrnFpl9/Zkdtlv3/iBZsVKLZlUkAy6rVRyh944hA8EG5ZVeJNr8a+a+glGJehQED0rvZYYvHihKEd+BW/OiTDQKrz8JfUDWF6d6BjqD3EAtFTOsw0vK5XClN8at5dlcJzuaqvw1lao7Nevf5jAAb1HD3RxlgrJduFdhEJV8ukY+z2mt9oivPgOxGZqri/zuacHGd6OpT/GHrx4SKofkxT98lpvtUV4+HAXG4UuWTI8m/DmnfGrtM83qLPaIrxFDIlsj35uAVzt2v1d9OYjFCcsz9fuu6ldbRHeNuYarCJFU4sxWb2SZHPMA7mEMOZld+elRizs2rurAMBr993WrLYIbwkTdaDwRW9su7Rw+QLJrrctLfCcFBPLmGIoZO+uAgivvb3mESdW4Ul2lFW1Bl611QtfViyFKVCE4jwGDn4hnuOF7Uu4PLx2WrO6QXjMVw2s0T29U7t6pT+RxUAk07MQf+aKAWN4g+1d9YTYtfs0AYtFeJdCt0VBnK5RZb98kTBOWrlgK4iU5XnlWgC0PKOZF4O8XZlQl5qeRXh5wWEgeHqDsLI2MLlmeWojufRsIZcrCGeXAdmZ0ewoAZ6E0Kf8RSXftepRVBbhrQjj/xeQuP4hrCspigF8fZk/y8yatQiPlwPTauuJh+e76fINDoKF7z+72q8H9U1PHe5ZDZLFqG3vd7Fu91nM/5F+l2KW+E4j7JoH7yX1fRAMf+0+P3XTHqO6fD4Yn4B/fMI/PL2fig8awovFalK6Ha0H2IOmJvuO0R98UkatNsaumfBuwteQkj/GfudiXYM0fd3F0nSX/5a7bb+h6e88PUWwjIMXSx6lE1Dp/ZRyfV4btyF4X+TfmVFkm4s71n0FUhPhxcI3vq7B6wpN397GrmODN9z3n9exnxzbRV1zNzffBachf1AfXuroJHF3kEylUsn9dCJ9IG+Ja2fRMsDUfmj9LpO3mlhIaiK8wWuq65q+rbB+6jp8Hbu9/XlN33A/ucxL6voaLPAdV9EZdeHdvU4n5d9i+4kT2fryy9q9SzWXViaXLVyo1aiJ8K59t5zP99JP/6Taqa5b2n/7M1bhbiC8QdrP3fi0wYoOvIPXaYnVQXfvEfhx9HpfXMMs1xvLmPxVAyGKKDPwmIUFO7e3aSWEKt+F/0FI/N0HFr7z/8MQGQTJ16jXdqmqorXw7hJyL012d3e/giSTiTtxXbzOaLays9Sw2VGm4MWrgUCRID3zQXK7uqJcAy+t6KLUQS+Ah3pw6kSiN2lwWw+zurTW6GjHywQ8NGOW4D0Bgy999aTLrgbeSVrZqZO9vb1v0VIq3Sv13Mk1jG0xi8trerdRWVF9eAy6A54gPNpfTxk+jK5TGDg5UW/eF2Cmunu7eyUnwmxfbdfWAVa3r9ZWbPcmc5YXyAmFp8M/SY5+OJkqSd2daLeLG0D/7U3IRjm5fbW8uCq1O766uNTgLaJamRnzCrkCn9NcBAJOzASoEYJX+8RiFbz9hO5FIgrB6317cqRYwyxeLq+tLV3mL5fAz+XLRm9O1spUqCKYPSraBYh8rbFgGV7nac9KeMlEsnYHXqm33d3JVEKVbFDM5OrKYj6/sjIZJ9d3rMR5jIPzjVWifTpFeDW8xJHODoJiSWCU6Tv8DqRkKUgGMUvI4WenINEv9dgp4e2LA17qANN7U69Jt6pWluCNHh7O19/Lvmhddgp4sddCp90H4UlKd2dKmeU6pCakZw1LhneU5n/GQFbRi+nA+2nHG4SBVyocOvKACluS4MVEb5F6BeDt6+8dc77f6sMrhQIBp28AtS4JnjTixd6CbosLWfD+mJT04aGM7F6GNyuS4J1Iw1lsHz+y3Rk4ZDLShWc3I8s6c9eoCC95gjM2lfYdD1b0LW83ZCeV2PWGck6YrQjvSNcVyNcwhMsZB7j8jZgwDmP+Yr7hQLzk0JRkCZ7uYHbwtluwtP3uV92QnkkDtSEHQhX4GDNvzoEHiArwUnpZLfK7CGqsVwhfYtjsV6vI0NyL9WGkqRdzQxGzDXIA3oIz884keAd6vRaWQnl4yV4hfDEFLzI0teFyzU5Prc8grU8dg9+nX4yZaVB9ePOFgsXhfzeXs/oRUxLgHel5UbkUSonhS1144bH1jXcbwy8iYeXEhMi4y/Vu+t3sen0DrAtvNxAIVC2Ofzbnc+MkwEsro+KD9B2P6ODkTsjTYkdHaFUdeCMzG67xOUgoPKbkNOUCGhkZGncd1zO/uvC88vSnZkuAp/QXCoOrkSG8sWNAboRfBLDW5S3TEB6kGRl2HY8YNqgePL6GVw8es3AfyZwA77WCSRokt90YRgbwhmZd6xKXcUhL7rhDMsuRY9cLowZh4YneEj5Nq14ZKlsNBArOWycPj89ZU0nUSVHVGLM7NlQZm1ago6hZCE+xOaLwFnOuYYMGYeDFpScdMbv1SwRwOmPI+WyOh5dKUOgCdzfsvam33biSlL5XBprR9MY5wA5rYGPvDOhh4ME7QM3HuTnTz1i19QB5Bby3IBxBbGI4dLj0LLIxO6RZNTZm4BkirnXsNn14/CxZ/BE1gg+iCfCGmj08xN9pO1oN2XlalwIeDInrpa5pvVrVkGE/VGhufY5fiLi0sCVp4MUXUJSB7q8wb3nZojgXdAEENl4svYuArfBZAS/9qqaCfHAgrogdoNq8Xhb3wjVn7ruGQV+eEj4zi3tVqhrefM5bRZZRCIWqFkyEER8vZDyZGxVr7MLjHcb+vsYbpKXKXgpEyWn9YugLvBWpNQKdyIbwyyxuRFTBywbEadlMqaGqEl/Lwt4uim4yaNyxiKGK3rYD2JH52t4RzM/CcsVUlshu6Hi4jgGOvAPwjsWPbWD2UsHjU3rjwxoL1rLwN7Awh16vjatvYpCs5yPk3BbYIIr9aoe8MYEdjIpdvI8YwUXBINo7FntrxIXJ1FTwYEpv89rifEF++m/p8IJoKV+Ad6JbPO7uFT1Isrv31QHotVrGI2JAghIwyDEM4mMT/iO8gens6jHvUOcW7UJOujGAKeaq5p9aMe8l/HIWqTCArmprFDtIyosxSqfXHk8LC0NiArYum+DcxuwM9ouPMZ1c621r/lh4OcMrZA9FOOVHtXW3UMAal/noz6TEklQCRMZ1q0019jkkd74X03zOPyzBGxONUVe4EdJKYQBNt1DNVYFDHPYB5uiTDsBLGVyslZSsSWzHp2p2GpK8wguXUZox3Sg8aHheGZ7K8hjDl9cUIFmSGa9YhjcD70TrLsZcwDfMDc+oYraRuTFxq9CT9TRSk5MIqgvvIhSSrqMdap+Nhy5RYiOT3cKFJhkbXZi3MQiK8O56u1/VmUtxUFMUmDnm7QvjIIbWZ7DFzzEXJkpWwsvqDl/ZBfnvFe+ulX73GiUUtYeqBuw8z0GEl3pbY1fAjZzcKXglauCOzwjFJ+vfuz6N2aCAV/B6Ld8la5jK1qhoaKh1JV30Ttd22v1eoVKApHNxErqDaUXka6R1Ve8ewXoSGR582EKIyOOzsrhHwudIpGeU4vpZbF+IT2JvwUAoFfaSr2udMex6YGSbNa4NIx2re/cMLsFQwPuT1GvfLuQ75jUqQI/T+PmRZ0nd8ZaVAuGw0IFPwDgolllStZ0WwEPUTKDj81qX4ldswUpjeQSq6QavwRg9rBZtfINifh6PB2axQsSXfNstjnkx3Vmj+n0vHKn1BeFZuaICtFEb4oiS4cG4Q89gsiVr9csFyC6ACZ1H7YQuipmhByjBvZPhKWZbnOhWkMf1EoixjXfjtXY1Nj29Lv0y9Q7fIIXDYGrvaqNgNGLxURXxHMhDSN4xJEk5J/kOxiIwi9VaWUx9a4ukOT2XOasoPOlrHRv9UfXjPPS2AWsOMlv0Fhx5W6vqVoI0olczwyyVwFy5iOgMXWE4uBlYFqwhGF271YWXLRTFqtuf9qKLUjVH7rKa5iYWvdLU/mts6jE1Liwo5gfA5NaosndsZHf68Ear8gNV0YMEDR3kfFGuDWhf/pe1V3fXSHP71FFCGyonT07ws0FH3vG56/qsojI8ZzQpJTK+Yf2id0n5Jx/mqobxy7x81YI5LBbVdWJUXSV254b2xr1kQlU6SaYTR0bFliHkcIfwWcbYmMr1zsnlUIzqwqv3ALqivDMI4wIBlXPZler6JFR7v+1BInG3z98hf5dIHOEvQyKhKjyqn+gZFKyMjsu0IuP1rxXhuq3piK8gX/dAMzNUpjfqtXWtUSO92+RT+8KzGY5MTN9+4ZpBl7hFBzui7LOKyiiapzIlgDR4Wbyuw4gfmr+RAL55hZ8twKAATz0+js4TfE26/ZfGDb0bj8wcTwmGNwOyNdkhTMnwxo4VM6Q+4uMR+5Mb44fiE6d3AyFH36FE4HWFI1OuKRELquHJ6cPIBj/BZ2RoWjW57NHZU5zxEZ0ZWlowmbg+/tjI4Ym8KHMMoBEuQKrh8dP05obfuTTTGp+e9X3SP1Zzbp969Oa8gU8RekVrBIxuU3BW47jadYSHZsCamZrY5fFE30SfLqYm3Xv25Gzimcldn4n68ObTMxL68OHDX//+L+A2hjfGh3jNzQyDTuv67//5X7BRu//HN319fRMTT2pPXZPgwbPZ+cHUrk8l9b1/Skzn53/9Z3j4eJzX8fDwf/46P8fs2wfhnXWKpB5JOv/0qCnqhCfz/TODOKBWDrwQPYxkvM9jyO69/N3vfxM1cfZbUwTPZt/Zb++t0HPibfIm9GRi4o3+Nz9pyO/ZF7S8s3NLhtcseBN9OEbNGvPOwAhsDV2z4D3DhnnNgndurcPyag48gy9tVpzXyGjRpG6LV3PgPW4IQwueDbXg2ZBOjN9c/UrwHpxa8FpqqaWWWmrJAf0fXRVWKqWi6g4AAAAASUVORK5CYII=\" width=\"350px\" height=\"180px\" />\n",
    "\n",
    "\n",
    "# <font color= #8A0829> Laboratorio de Modelado de Datos </font>\n",
    "#### <font color= #2E9AFE> `Martes y Viernes (Videoconferencia) de 13:00 - 15:00 hrs`</font>\n",
    "- <Strong> Sara Eugenia Rodríguez </Strong>\n",
    "- <Strong> Año </Strong>: 2024\n",
    "- <Strong> Email: </Strong>  <font color=\"blue\"> `cd682324@iteso.mx` </font>\n",
    "___\n",
    "\n",
    "\n",
    "### <font color= #2E9AFE> Tema: Clustering</font>"
   ]
  },
  {
   "cell_type": "markdown",
   "metadata": {},
   "source": [
    "### K-means\n",
    "\n",
    "**Cuándo usarlo:**\n",
    "\n",
    "- Conjuntos de datos grandes: K-means es generalmente más eficiente en términos de tiempo y es adecuado para conjuntos de datos grandes. Su algoritmo de optimización es rápido y escala bien con el tamaño del conjunto de datos.\n",
    "- Grupos con distribución esférica o bien separados: K-means funciona mejor si los clusters tienen una forma esférica.\n",
    "- Número de clusters predefinido: Si ya tienes una idea del número de clusters que quieres, K-means es adecuado.\n",
    "- Menor sensibilidad al ruido: K-means es menos sensible a atípicos.\n",
    "\n",
    "**Ventajas:**\n",
    "\n",
    "- Escalable para grandes volúmenes de datos.\n",
    "- Algoritmo rápido y eficiente.\n",
    "- Fácil de interpretar y visualizar en algunas aplicaciones.\n",
    "\n",
    "**Desventajas:**\n",
    "\n",
    "- Requiere predefinir el número de clusters (k).\n",
    "- Sensible a la selección inicial de centroides.\n",
    "\n",
    "### Clustering Jerárquico\n",
    "\n",
    "**Cuándo usarlo:**\n",
    "\n",
    "- Conjuntos de datos pequeños a medianos: Debido a su complejidad computacional, el clustering jerárquico es adecuado para conjuntos de datos más pequeños o medianos, ya que la eficiencia se ve afectada a medida que el tamaño del conjunto de datos aumenta.\n",
    "- Estructuras de clusteres de forma arbitraria: Si los clústeres no son necesariamente esféricos y pueden variar en tamaño y forma, el clustering jerárquico puede capturar estas variaciones mejor que K-means.\n",
    "- Análisis exploratorio: Es útil si deseas explorar los datos y observar cómo se agrupan a diferentes niveles, ya que genera un dendrograma que te permite visualizar y entender la estructura jerárquica de los datos.\n",
    "- Número de clústeres desconocido: Si no tienes una idea clara de cuántos clústeres quieres, el clustering jerárquico puede ayudar a identificar el número adecuado al analizar el dendrograma.\n",
    "\n",
    "\n",
    "**Ventajas:**\n",
    "\n",
    "- No requiere predefinir el número de clústeres.\n",
    "- Proporciona una representación visual (dendrograma) de la estructura de los datos.\n",
    "- Puede capturar clusters con formas y tamaños variados.\n",
    "\n",
    "**Desventajas:**\n",
    "\n",
    "- Costoso en términos de tiempo y memoria para grandes conjuntos de datos.\n",
    "- Muy sensibles al ruido y a los atípicos.\n",
    "- Menos eficiente que K-means cuando se escala a datos grandes."
   ]
  },
  {
   "cell_type": "markdown",
   "metadata": {},
   "source": [
    "### K-Means\n",
    "\n",
    "Pasos\n",
    "\n",
    "1. Seleccionar el número de grupos/clusters, \"k\" que queremos. \n",
    "\n",
    "2. Crear los \"K\" centroides.\n",
    "\n",
    "3. Estos centroides no están optimizados. El entrenamiento implica mover los centroides hasta que estén en el centro de cada grupo. En este punto podemos determinar en qué grupo debería estar un punto de datos dado (el centroide al que está más cercano).\n",
    "\n",
    "4. Con nuestros centroides iniciales, iteramos a través de los datos agrupando cada punto hasta el centroide al que está más cercano. Luego, cambiamos los centroides tomando el promedio de todos los puntos de datos en cada grupo.\n",
    "\n",
    "4. El proceso se repite hasta que los centroides ya no cambien tanto. "
   ]
  },
  {
   "cell_type": "markdown",
   "metadata": {},
   "source": [
    "### Ejemplo 1 --> Iniciando con Kmeans"
   ]
  },
  {
   "cell_type": "code",
   "execution_count": null,
   "metadata": {},
   "outputs": [],
   "source": [
    "import numpy as np\n",
    "import warnings\n",
    "warnings.filterwarnings('ignore')\n",
    "\n",
    "#Crear datos\n",
    "data = np.array([  \n",
    "    [4, 3], [0, 0], [2, 4], [3, 4], [5, 4], [-2, 1], [-3, 0], [-3, -3], [8, 12], [11, 11], [9, 10]  \n",
    "])\n",
    "data"
   ]
  },
  {
   "cell_type": "code",
   "execution_count": null,
   "metadata": {},
   "outputs": [],
   "source": [
    "#Graficar datos\n",
    "import matplotlib.pyplot as plt\n",
    "plt.scatter(data[:,0], data[:,1])\n",
    "plt.show()"
   ]
  },
  {
   "cell_type": "code",
   "execution_count": null,
   "metadata": {},
   "outputs": [],
   "source": [
    "#Inicializar kmeans\n",
    "from sklearn.cluster import KMeans\n",
    "\n",
    "#Inicializar objeto\n",
    "kmeans = KMeans(\n",
    "       init=\"random\", #k-means++ #inicializar centroides aleatoriamente\n",
    "       n_clusters=3,\n",
    "       n_init=10, #cuantas veces se va a hacer el método de kmeans\n",
    "       max_iter=300, #máximo numero de iteraciones\n",
    "       random_state=42)\n",
    "\n",
    "#Entrenar datos\n",
    "kmeans.fit(data)"
   ]
  },
  {
   "cell_type": "code",
   "execution_count": null,
   "metadata": {},
   "outputs": [],
   "source": [
    "#Predecir a qué grupo pertenece cada dato\n",
    "y_means = kmeans.fit_predict(data)\n",
    "y_means"
   ]
  },
  {
   "cell_type": "code",
   "execution_count": null,
   "metadata": {},
   "outputs": [],
   "source": [
    "#observar centroides de cada grupo\n",
    "kmeans.cluster_centers_"
   ]
  },
  {
   "cell_type": "code",
   "execution_count": null,
   "metadata": {},
   "outputs": [],
   "source": [
    "#y si no sabemos cuantos clusters usar?\n",
    "#Elegir número de clusters (k)\n",
    "\n",
    "kmeans_kwargs = {\n",
    "       \"init\": \"random\",\n",
    "       \"n_init\": 10,\n",
    "       \"max_iter\": 300,\n",
    "       \"random_state\": 42,\n",
    "}\n",
    "\n",
    "#Calculamos la suma del error cuadrático (SSE) para cada \"k\" de clusters\n",
    "sse=[]\n",
    "for k in range(1,11):\n",
    "    kmeans = KMeans(n_clusters = k, **kmeans_kwargs)\n",
    "    kmeans.fit(data)\n",
    "    sse.append(kmeans.inertia_)\n",
    "    \n",
    "#Graficamos\n",
    "plt.style.use(\"fivethirtyeight\")\n",
    "plt.plot(range(1, 11), sse)\n",
    "plt.xticks(range(1, 11))\n",
    "plt.xlabel(\"Numero de cluster\")\n",
    "plt.ylabel(\"SSE\")\n",
    "plt.show()"
   ]
  },
  {
   "cell_type": "code",
   "execution_count": null,
   "metadata": {},
   "outputs": [],
   "source": [
    "#pip install kneed"
   ]
  },
  {
   "cell_type": "code",
   "execution_count": null,
   "metadata": {},
   "outputs": [],
   "source": [
    "# o de forma más automatizada usando librería\n",
    "from kneed import KneeLocator\n",
    "kl = KneeLocator(\n",
    "     range(1, 11), sse, curve=\"convex\", direction=\"decreasing\"\n",
    ")\n",
    "\n",
    "kl.elbow"
   ]
  },
  {
   "cell_type": "markdown",
   "metadata": {},
   "source": [
    "### Ejemplo 2 --> Kmeans en imágens\n",
    "\n",
    "Aplicar K-means a imágenes tiene varias aplicaciones útiles, principalmente relacionadas con la simplificación de colores, segmentación y compresión de la imagen. \n",
    "\n",
    "Es común utilizar K-means en procesamiento de imágenes:\n",
    "\n",
    "1. **Reducción de Colores:**\n",
    "\n",
    "K-means agrupa los píxeles en varios clusters, donde cada cluster representa un color predominante en la imagen. Luego, cada píxel es reemplazado por el color promedio del cluster al que pertenece.\n",
    "Esto reduce la complejidad de la imagen y permite mostrarla con una paleta de colores reducida, sin que la imagen pierda demasiada información visual.\n",
    "\n",
    "2. **Segmentación de Imágenes:**\n",
    "\n",
    "Dividir una imagen en diferentes regiones o segmentos que representen distintas partes de la imagen, como objetos o áreas de fondo.\n",
    "La segmentación es útil para aplicaciones en visión artificial y procesamiento de imágenes, como el reconocimiento de objetos, la detección de bordes, o para analizar imágenes médicas donde cada región puede representar diferentes tejidos o estructuras."
   ]
  },
  {
   "cell_type": "code",
   "execution_count": null,
   "metadata": {},
   "outputs": [],
   "source": [
    "#pip install opencv-python"
   ]
  },
  {
   "cell_type": "code",
   "execution_count": null,
   "metadata": {},
   "outputs": [],
   "source": [
    "import cv2\n",
    "import numpy as np\n",
    "from sklearn.cluster import KMeans\n",
    "import matplotlib.pyplot as plt"
   ]
  },
  {
   "cell_type": "code",
   "execution_count": null,
   "metadata": {},
   "outputs": [],
   "source": [
    "# Cargar imagen y convertirla a formato RGB\n",
    "def cargar_imagen(path):    \n",
    "    image = cv2.imread(path)\n",
    "    image = cv2.cvtColor(image, cv2.COLOR_BGR2RGB)\n",
    "    return image"
   ]
  },
  {
   "cell_type": "code",
   "execution_count": null,
   "metadata": {},
   "outputs": [],
   "source": [
    "#Funcion que transforma la imagen (la aplana) y aplica el Kmeans para reducir los colores a K clusters\n",
    "\n",
    "def aplicar_kmeans(image, k):\n",
    "    # Obtener dimensiones de la imagen\n",
    "    h, w, c = image.shape\n",
    "    \n",
    "    # Aplanar la imagen en una matriz de píxeles (cada fila es un píxel con tres valores RGB)\n",
    "    pixels = image.reshape(-1, 3)\n",
    "    \n",
    "    # Aplicar KMeans para reducir los colores a K clusters\n",
    "    kmeans = KMeans(n_clusters=k, random_state=42, n_init='auto')\n",
    "    kmeans.fit(pixels)\n",
    "    \n",
    "    # Reemplazar los píxeles por los colores del cluster al que pertenecen\n",
    "    new_colors = kmeans.cluster_centers_[kmeans.labels_]\n",
    "    \n",
    "    # Reconstruir la imagen en el mismo tamaño\n",
    "    new_image = new_colors.reshape(h, w, c).astype(np.uint8)\n",
    "    return new_image"
   ]
  },
  {
   "cell_type": "code",
   "execution_count": null,
   "metadata": {},
   "outputs": [],
   "source": [
    "def plot_images(original, processed):\n",
    "    # Visualizar la imagen original y la reconstruida\n",
    "    plt.figure(figsize=(10, 5))\n",
    "    \n",
    "    # Imagen original\n",
    "    plt.subplot(1, 2, 1)\n",
    "    plt.imshow(original)\n",
    "    plt.title(\"Imagen Original\")\n",
    "    plt.axis(\"off\")\n",
    "    \n",
    "    # Imagen procesada\n",
    "    plt.subplot(1, 2, 2)\n",
    "    plt.imshow(processed)\n",
    "    plt.title(\"Imagen con K-Means\")\n",
    "    plt.axis(\"off\")\n",
    "    \n",
    "    plt.show()\n",
    "\n",
    "# Ruta de la imagen\n",
    "image_path = 'prueba2.jpg'\n",
    "\n",
    "# Cargar y procesar la imagen\n",
    "image = cargar_imagen(image_path)\n",
    "k = 3  # Número de colores (clusters) que quieres en la imagen procesada\n",
    "processed_image = aplicar_kmeans(image, k)\n",
    "\n",
    "# Visualizar las imágenes\n",
    "plot_images(image, processed_image)\n"
   ]
  },
  {
   "cell_type": "markdown",
   "metadata": {},
   "source": [
    "### Recomendaciones\n",
    "\n",
    "- Normalización: poner los atributos en escalas similares\n",
    "- Selección de características/reducción de dimensionalidad: es buena idea usar el menor número atributos posible debido a los que se conoce como la maldición de la dimensionalidad. A que a medida que el número de dimensiones (atributos) aumenta, la distancia discrimina cada vez menos."
   ]
  },
  {
   "cell_type": "markdown",
   "metadata": {},
   "source": [
    "#### Alguna bibliografía\n",
    "\n",
    "Evaluación del modelo\n",
    "- https://scikit-learn.org/stable/modules/clustering.html#clustering-evaluation\n",
    "\n",
    "Una guía práctica de clustering:\n",
    "- https://realpython.com/k-means-clustering-python/\n",
    "\n",
    "\n"
   ]
  }
 ],
 "metadata": {
  "kernelspec": {
   "display_name": "Python 3 (ipykernel)",
   "language": "python",
   "name": "python3"
  },
  "language_info": {
   "codemirror_mode": {
    "name": "ipython",
    "version": 3
   },
   "file_extension": ".py",
   "mimetype": "text/x-python",
   "name": "python",
   "nbconvert_exporter": "python",
   "pygments_lexer": "ipython3",
   "version": "3.11.4"
  }
 },
 "nbformat": 4,
 "nbformat_minor": 4
}
