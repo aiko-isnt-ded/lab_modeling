{
 "cells": [
  {
   "cell_type": "markdown",
   "metadata": {},
   "source": [
    "___\n",
    "<img style=\"float: right; margin: 0px 0px 15px 15px;\" src=\"https://timelyportfolio.github.io/rCharts_time_series/assets/fig/unnamed-chunk-14.png\" width=\"350px\" height=\"180px\" />\n",
    "\n",
    "\n",
    "# <font color= #8A0829> Laboratorio de Modelado de Datos </font>\n",
    "#### <font color= #2E9AFE> `Martes y Viernes (Videoconferencia) de 13:00 - 15:00 hrs`</font>\n",
    "- <Strong> Sara Eugenia Rodríguez </Strong>\n",
    "- <Strong> Año </Strong>: 2024\n",
    "- <Strong> Email: </Strong>  <font color=\"blue\"> `cd682324@iteso.mx` </font>\n",
    "___\n",
    "\n",
    "<p style=\"text-align:right;\"> Imagen recuperada de: https://timelyportfolio.github.io/rCharts_time_series/assets/fig/unnamed-chunk-14.png</p>\n",
    "\n",
    "### <font color= #2E9AFE> Tema: Series de Tiempo con Clustering</font>"
   ]
  },
  {
   "cell_type": "markdown",
   "metadata": {},
   "source": [
    "#### Ejemplo: Diversificación de Portafolios\n",
    "\n",
    "<img style=\"float: center; margin: 0px 0px 15px 15px;\" src=\"https://moneymorning.com/wp-content/blogs.dir/1/files/2021/04/DIVERS1-1024x573.png\" width=\"350px\" height=\"180px\" />\n",
    "\n",
    "Un portafolio de inversión de activos financieros (o cartera de inversión) es la forma de agrupar diversos tipos de activos, a fin de invertir un patrimonio y alcanzar, en algún plazo definido, un objetivo de rentabilidad dada ciertas consideraciones de riesgo.\n",
    "\n",
    "Lo que se quiere hacer es idear una estrategia en la que seleccione sólo aquellas acciones que se comporten de manera diferente. Esto ayudará a mitigar el riesgo y una forma de hacerlo es seleccionar acciones de diferentes sectores, pero una solución más basada en datos puede ser aplicar el algoritmo de agrupación K-Means en datos bursátiles para identificar diferentes grupos de acciones.\n",
    "\n",
    "Este enfoque permite a los inversores construir portafolios diversificados basados en los grupos formados. Por ejemplo, se podrían identificar acciones con bajo riesgo y alto rendimiento en un clúster y otras con mayores fluctuaciones en otro.\n"
   ]
  },
  {
   "cell_type": "markdown",
   "metadata": {},
   "source": [
    "**Objetivo**: aprender sobre acciones de la bolsa utilizando algoritmos de clustering para agrupar acciones que tienen un comportamiento similar. \n",
    "\n",
    "Vamos a enfocarnos en acciones que son parte del índice del Dow Jones. También en algunas del índice del S&P500\n",
    "\n",
    "Tanto el Dow Jones, como el S&P 500 son índices bursátiles del mercado estadounidense.\n",
    "\n",
    "Estos índices se calculan a partir de la cotizaciones de las empresas que se agrupan en ellos. \n",
    "\n",
    "**Dow Jones**\n",
    "\n",
    "El Dow Jones aglutina las 30 mayores empresas cotizadas de Estados Unidos proveniente de los distintos sectores de la Industria excepto de transporte y energía que se miden en índices separados.\n",
    "\n",
    "**S&P 500**\n",
    "\n",
    "Se suelte considerar por los analistas como el indicador más próximo a la situación real en la que se encuentra el mercado.\n",
    "\n",
    "Bajo este índice se agrupan las 500 mayores compañías estadounidenses que cotizan en bolsa, concretamente en la bolsa de Nueva York.\n",
    "\n",
    "Estas compañías no son fijas, son seleccionadas por un comité de la firma S&P, y deben cumplir una serie de requisitos para poder ser incluidas en dicho índice, relacionados con su capitalización bursátil, liquidez, capital flotante, viabilidad financiera, antigüedad en bolsa y su negociación en la bolsa de valores."
   ]
  },
  {
   "cell_type": "markdown",
   "metadata": {},
   "source": [
    "### Datos\n",
    "\n",
    "Vamos a utilizar varias fuentes de datos:\n",
    "- Lista de compañías que son parte del índice del Dow Jones: https://en.wikipedia.org/wiki/Dow_Jones_Industrial_Average\n",
    "- Datos de los últimos 5 años del índice del S&P500\n",
    "- Alguna información sobre los componentes de las acciones del S&P500, principalmente el símbolo de cada compañía\n",
    "\n",
    "#### S&P500\n",
    "\n",
    "Se tienen datos de acciones de cada compañía que es parte del índice, etiquetadas por su nombre de cotización en la bolsa. \n",
    "\n",
    "- Date: en formato yy-mm-dd\n",
    "- Open: precio de la acción cuando el mercado abre (USD)\n",
    "- Low: precio más bajo alcanzado durante el día\n",
    "- Close: precio al que se cierra en el día\n",
    "- High: precio más alto alcanzado durante el día\n",
    "- Volume: número de acciones negociadas\n",
    "- Name: nombre de la acción en la bolsa\n"
   ]
  },
  {
   "cell_type": "code",
   "execution_count": null,
   "metadata": {},
   "outputs": [],
   "source": [
    "pip install yfinance"
   ]
  },
  {
   "cell_type": "code",
   "execution_count": 2,
   "metadata": {},
   "outputs": [],
   "source": [
    "#librerías\n",
    "import numpy as np\n",
    "import pandas as pd\n",
    "import matplotlib.pyplot as plt\n",
    "import random\n",
    "from sklearn.cluster import KMeans\n",
    "from sklearn.decomposition import PCA\n",
    "import yfinance as yf\n",
    "from datetime import datetime, timedelta\n",
    "\n",
    "random.seed(42)\n",
    "plt.rcParams['figure.figsize'] = (7,4.5) "
   ]
  },
  {
   "cell_type": "code",
   "execution_count": 3,
   "metadata": {},
   "outputs": [
    {
     "name": "stdout",
     "output_type": "stream",
     "text": [
      "Descargando datos de cierre ajustado para el S&P 500...\n"
     ]
    },
    {
     "name": "stderr",
     "output_type": "stream",
     "text": [
      "[*********************100%***********************]  503 of 503 completed\n",
      "\n",
      "2 Failed downloads:\n",
      "['BF.B']: YFPricesMissingError('$%ticker%: possibly delisted; no price data found  (1d 2019-11-24 -> 2024-11-22)')\n",
      "['BRK.B']: YFTzMissingError('$%ticker%: possibly delisted; no timezone found')\n",
      "C:\\Users\\vivia\\AppData\\Local\\Temp\\ipykernel_24636\\598747937.py:23: PerformanceWarning: DataFrame is highly fragmented.  This is usually the result of calling `frame.insert` many times, which has poor performance.  Consider joining all columns at once using pd.concat(axis=1) instead. To get a de-fragmented frame, use `newframe = frame.copy()`\n",
      "  data_close.reset_index(inplace=True)\n"
     ]
    }
   ],
   "source": [
    "# Obtener la lista de empresas del S&P 500, (se puede descargar de wikipedia)\n",
    "def get_sp500_tickers():\n",
    "    url = \"https://en.wikipedia.org/wiki/List_of_S%26P_500_companies\"\n",
    "    table = pd.read_html(url)\n",
    "    sp500_table = table[0]\n",
    "    tickers = sp500_table['Symbol'].tolist()\n",
    "    return tickers\n",
    "\n",
    "start_date = (datetime.now() - timedelta(days=5*365)).strftime('%Y-%m-%d')\n",
    "end_date = datetime.now().strftime('%Y-%m-%d')\n",
    "\n",
    "def download_prices(tickers, start_date, end_date):\n",
    "    print(\"Descargando datos de cierre ajustado para el S&P 500...\")\n",
    "    data = yf.download(tickers, start=start_date, end=end_date, group_by=\"ticker\", progress=True)\n",
    "    return data\n",
    "\n",
    "tickers = get_sp500_tickers()\n",
    "\n",
    "data = download_prices(tickers, start_date, end_date)\n",
    "\n",
    "data_close = data.loc[:, (slice(None), 'Adj Close')]  # Seleccionar solo los precios de cierre ajustados\n",
    "data_close.columns = [col[0] for col in data_close.columns] \n",
    "data_close.reset_index(inplace=True)\n",
    "\n",
    "data_close.to_excel(\"sp500_prices.xlsx\", index=False)\n"
   ]
  },
  {
   "cell_type": "code",
   "execution_count": 4,
   "metadata": {},
   "outputs": [
    {
     "data": {
      "text/html": [
       "<div>\n",
       "<style scoped>\n",
       "    .dataframe tbody tr th:only-of-type {\n",
       "        vertical-align: middle;\n",
       "    }\n",
       "\n",
       "    .dataframe tbody tr th {\n",
       "        vertical-align: top;\n",
       "    }\n",
       "\n",
       "    .dataframe thead th {\n",
       "        text-align: right;\n",
       "    }\n",
       "</style>\n",
       "<table border=\"1\" class=\"dataframe\">\n",
       "  <thead>\n",
       "    <tr style=\"text-align: right;\">\n",
       "      <th></th>\n",
       "      <th>Date</th>\n",
       "      <th>CTLT</th>\n",
       "      <th>AVGO</th>\n",
       "      <th>CSX</th>\n",
       "      <th>ALL</th>\n",
       "      <th>MMM</th>\n",
       "      <th>OXY</th>\n",
       "      <th>ROP</th>\n",
       "      <th>CLX</th>\n",
       "      <th>ORCL</th>\n",
       "      <th>...</th>\n",
       "      <th>TMUS</th>\n",
       "      <th>MTCH</th>\n",
       "      <th>CI</th>\n",
       "      <th>DOV</th>\n",
       "      <th>BRK.B</th>\n",
       "      <th>ELV</th>\n",
       "      <th>NVDA</th>\n",
       "      <th>J</th>\n",
       "      <th>MCK</th>\n",
       "      <th>NTRS</th>\n",
       "    </tr>\n",
       "  </thead>\n",
       "  <tbody>\n",
       "    <tr>\n",
       "      <th>0</th>\n",
       "      <td>2019-11-22</td>\n",
       "      <td>52.040001</td>\n",
       "      <td>27.136105</td>\n",
       "      <td>22.031929</td>\n",
       "      <td>97.102745</td>\n",
       "      <td>114.490341</td>\n",
       "      <td>36.336483</td>\n",
       "      <td>345.880280</td>\n",
       "      <td>126.742714</td>\n",
       "      <td>52.202274</td>\n",
       "      <td>...</td>\n",
       "      <td>77.388893</td>\n",
       "      <td>69.870003</td>\n",
       "      <td>189.209915</td>\n",
       "      <td>101.769051</td>\n",
       "      <td>NaN</td>\n",
       "      <td>274.622009</td>\n",
       "      <td>5.246731</td>\n",
       "      <td>74.780922</td>\n",
       "      <td>146.966034</td>\n",
       "      <td>91.401436</td>\n",
       "    </tr>\n",
       "    <tr>\n",
       "      <th>1</th>\n",
       "      <td>2019-11-25</td>\n",
       "      <td>52.849998</td>\n",
       "      <td>27.541090</td>\n",
       "      <td>22.431883</td>\n",
       "      <td>97.632179</td>\n",
       "      <td>116.293793</td>\n",
       "      <td>36.657810</td>\n",
       "      <td>349.710938</td>\n",
       "      <td>125.867493</td>\n",
       "      <td>52.359653</td>\n",
       "      <td>...</td>\n",
       "      <td>76.807922</td>\n",
       "      <td>69.279999</td>\n",
       "      <td>191.103439</td>\n",
       "      <td>104.065102</td>\n",
       "      <td>NaN</td>\n",
       "      <td>276.560547</td>\n",
       "      <td>5.503481</td>\n",
       "      <td>72.674759</td>\n",
       "      <td>147.601608</td>\n",
       "      <td>91.682968</td>\n",
       "    </tr>\n",
       "    <tr>\n",
       "      <th>2</th>\n",
       "      <td>2019-11-26</td>\n",
       "      <td>52.669998</td>\n",
       "      <td>27.252430</td>\n",
       "      <td>22.481874</td>\n",
       "      <td>99.379410</td>\n",
       "      <td>115.603836</td>\n",
       "      <td>35.409252</td>\n",
       "      <td>352.870728</td>\n",
       "      <td>128.415176</td>\n",
       "      <td>52.313358</td>\n",
       "      <td>...</td>\n",
       "      <td>77.251030</td>\n",
       "      <td>70.370003</td>\n",
       "      <td>187.822617</td>\n",
       "      <td>104.557762</td>\n",
       "      <td>NaN</td>\n",
       "      <td>270.302673</td>\n",
       "      <td>5.398741</td>\n",
       "      <td>73.251350</td>\n",
       "      <td>140.407867</td>\n",
       "      <td>91.068665</td>\n",
       "    </tr>\n",
       "    <tr>\n",
       "      <th>3</th>\n",
       "      <td>2019-11-27</td>\n",
       "      <td>53.220001</td>\n",
       "      <td>27.439411</td>\n",
       "      <td>22.538313</td>\n",
       "      <td>99.290779</td>\n",
       "      <td>116.546539</td>\n",
       "      <td>35.574501</td>\n",
       "      <td>352.734650</td>\n",
       "      <td>129.073746</td>\n",
       "      <td>52.405945</td>\n",
       "      <td>...</td>\n",
       "      <td>77.772949</td>\n",
       "      <td>70.150002</td>\n",
       "      <td>187.503876</td>\n",
       "      <td>104.660469</td>\n",
       "      <td>NaN</td>\n",
       "      <td>272.382385</td>\n",
       "      <td>5.433597</td>\n",
       "      <td>74.100227</td>\n",
       "      <td>140.879730</td>\n",
       "      <td>91.879204</td>\n",
       "    </tr>\n",
       "    <tr>\n",
       "      <th>4</th>\n",
       "      <td>2019-11-29</td>\n",
       "      <td>51.990002</td>\n",
       "      <td>27.247259</td>\n",
       "      <td>22.428581</td>\n",
       "      <td>98.696915</td>\n",
       "      <td>115.972702</td>\n",
       "      <td>35.409252</td>\n",
       "      <td>350.372040</td>\n",
       "      <td>128.449799</td>\n",
       "      <td>51.970840</td>\n",
       "      <td>...</td>\n",
       "      <td>77.349518</td>\n",
       "      <td>70.480003</td>\n",
       "      <td>187.400742</td>\n",
       "      <td>104.081619</td>\n",
       "      <td>NaN</td>\n",
       "      <td>271.639008</td>\n",
       "      <td>5.396250</td>\n",
       "      <td>73.747879</td>\n",
       "      <td>139.682266</td>\n",
       "      <td>91.495277</td>\n",
       "    </tr>\n",
       "  </tbody>\n",
       "</table>\n",
       "<p>5 rows × 504 columns</p>\n",
       "</div>"
      ],
      "text/plain": [
       "        Date       CTLT       AVGO        CSX        ALL         MMM  \\\n",
       "0 2019-11-22  52.040001  27.136105  22.031929  97.102745  114.490341   \n",
       "1 2019-11-25  52.849998  27.541090  22.431883  97.632179  116.293793   \n",
       "2 2019-11-26  52.669998  27.252430  22.481874  99.379410  115.603836   \n",
       "3 2019-11-27  53.220001  27.439411  22.538313  99.290779  116.546539   \n",
       "4 2019-11-29  51.990002  27.247259  22.428581  98.696915  115.972702   \n",
       "\n",
       "         OXY         ROP         CLX       ORCL  ...       TMUS       MTCH  \\\n",
       "0  36.336483  345.880280  126.742714  52.202274  ...  77.388893  69.870003   \n",
       "1  36.657810  349.710938  125.867493  52.359653  ...  76.807922  69.279999   \n",
       "2  35.409252  352.870728  128.415176  52.313358  ...  77.251030  70.370003   \n",
       "3  35.574501  352.734650  129.073746  52.405945  ...  77.772949  70.150002   \n",
       "4  35.409252  350.372040  128.449799  51.970840  ...  77.349518  70.480003   \n",
       "\n",
       "           CI         DOV  BRK.B         ELV      NVDA          J         MCK  \\\n",
       "0  189.209915  101.769051    NaN  274.622009  5.246731  74.780922  146.966034   \n",
       "1  191.103439  104.065102    NaN  276.560547  5.503481  72.674759  147.601608   \n",
       "2  187.822617  104.557762    NaN  270.302673  5.398741  73.251350  140.407867   \n",
       "3  187.503876  104.660469    NaN  272.382385  5.433597  74.100227  140.879730   \n",
       "4  187.400742  104.081619    NaN  271.639008  5.396250  73.747879  139.682266   \n",
       "\n",
       "        NTRS  \n",
       "0  91.401436  \n",
       "1  91.682968  \n",
       "2  91.068665  \n",
       "3  91.879204  \n",
       "4  91.495277  \n",
       "\n",
       "[5 rows x 504 columns]"
      ]
     },
     "execution_count": 4,
     "metadata": {},
     "output_type": "execute_result"
    }
   ],
   "source": [
    "#Cargar precios de las acciones del S&P500\n",
    "data = pd.read_excel('../../data/raw/sp500_prices.xlsx')\n",
    "data = data.rename(columns={'Name':'symbol'})\n",
    "data['Date'] = pd.to_datetime(data['Date'])\n",
    "data.head()"
   ]
  },
  {
   "cell_type": "code",
   "execution_count": 6,
   "metadata": {},
   "outputs": [],
   "source": [
    "#Quitar esas columnas que tienen todas las filas con datos nulos\n",
    "data = data.dropna(axis=1, how='all')"
   ]
  },
  {
   "cell_type": "code",
   "execution_count": null,
   "metadata": {},
   "outputs": [],
   "source": [
    "#Observamos el porcentaje de nulos que tienen las acciones\n",
    "data[data.columns[data.isnull().any()]].isnull().sum() * 100 / data.shape[0]"
   ]
  },
  {
   "cell_type": "code",
   "execution_count": null,
   "metadata": {},
   "outputs": [],
   "source": [
    "#Vamos a quitar esas acciones que tienen gran porcentaje de datos nulos\n",
    "dropping = data[data.columns[data.isnull().any()]].isnull().sum() * 100 / data.shape[0]\n",
    "dropping[dropping>1].index\n",
    "data = data.drop(columns=['SW', 'AMTM', 'VLTO', 'CARR', 'PLTR', 'SOLV', 'KVUE', 'CEG', 'OTIS', 'ABNB', 'GEHC', 'GEV'], axis=1)"
   ]
  },
  {
   "cell_type": "code",
   "execution_count": null,
   "metadata": {},
   "outputs": [],
   "source": [
    "#Quitamos los valores nulos\n",
    "data = data.dropna()\n",
    "data[data.columns[data.isnull().any()]].isnull().sum() * 100 / data.shape[0]"
   ]
  },
  {
   "cell_type": "markdown",
   "metadata": {},
   "source": [
    "#### Lista de las industrias a las que pertenecen las compañías del S&P500 \n",
    "\n",
    "Las descargamos de aquí:\n",
    "https://en.wikipedia.org/wiki/List_of_S%26P_500_companies"
   ]
  },
  {
   "cell_type": "code",
   "execution_count": null,
   "metadata": {},
   "outputs": [],
   "source": [
    "def get_sp500_companies():\n",
    "    url = \"https://en.wikipedia.org/wiki/List_of_S%26P_500_companies\"\n",
    "    \n",
    "    tables = pd.read_html(url)\n",
    "    \n",
    "    sp500_table = tables[0]\n",
    "    \n",
    "    sp500_companies = sp500_table[[\"Symbol\", \"Security\", \"GICS Sector\", \"GICS Sub-Industry\"]]\n",
    "    \n",
    "    sp500_companies.columns = [\"Symbol\", \"Security\", \"Sector\", \"Sub-Industry\"]\n",
    "    \n",
    "    return sp500_companies\n",
    "\n",
    "companies = get_sp500_companies()\n",
    "\n",
    "companies.to_csv(\"sp500_companies.csv\", index=False)\n"
   ]
  },
  {
   "cell_type": "code",
   "execution_count": null,
   "metadata": {},
   "outputs": [],
   "source": [
    "companies = companies.set_index(['Symbol'])\n",
    "companies.head()"
   ]
  },
  {
   "cell_type": "markdown",
   "metadata": {},
   "source": [
    "#### Lista de las compañías del Dow Jones\n",
    "\n",
    "Las podemos descargar de aquí:\n",
    "https://en.wikipedia.org/wiki/Dow_Jones_Industrial_Average"
   ]
  },
  {
   "cell_type": "code",
   "execution_count": null,
   "metadata": {},
   "outputs": [],
   "source": [
    "import pandas as pd\n",
    "\n",
    "def get_dow_jones_companies():\n",
    "    url = \"https://en.wikipedia.org/wiki/Dow_Jones_Industrial_Average\"\n",
    "    \n",
    "    tables = pd.read_html(url)\n",
    "    \n",
    "    dow_table = tables[2]\n",
    "    \n",
    "    dow_companies = dow_table[[\"Symbol\", \"Company\"]]\n",
    "    \n",
    "    dow_companies.columns = [\"Symbol\", \"Company\"]\n",
    "    \n",
    "    return dow_companies\n",
    "\n",
    "dow_data = get_dow_jones_companies()\n",
    "\n",
    "dow_data.to_csv(\"dow_jones_companies.csv\", index=False)\n"
   ]
  },
  {
   "cell_type": "code",
   "execution_count": null,
   "metadata": {},
   "outputs": [],
   "source": [
    "dow_data.set_index(\"Symbol\", inplace=True)\n",
    "dow_data.head()"
   ]
  },
  {
   "cell_type": "markdown",
   "metadata": {},
   "source": [
    "#### Preparar datos del S&P"
   ]
  },
  {
   "cell_type": "code",
   "execution_count": null,
   "metadata": {},
   "outputs": [],
   "source": [
    "#Transformando los datos del S&P500 a serie de tiempo\n",
    "acciones = data.set_index(\"Date\")\n",
    "acciones"
   ]
  },
  {
   "cell_type": "code",
   "execution_count": null,
   "metadata": {},
   "outputs": [],
   "source": [
    "#Hacer que los datos sean semanales en lugar de diarios\n",
    "acciones = acciones.resample('W').last() #se queda con el últimpo precio de cada semana\n",
    "acciones.head()"
   ]
  },
  {
   "cell_type": "markdown",
   "metadata": {},
   "source": [
    "#### Análisis Exploratorio"
   ]
  },
  {
   "cell_type": "code",
   "execution_count": null,
   "metadata": {},
   "outputs": [],
   "source": [
    "#Función para extraer el símbolo de la acción\n",
    "def get_name(symbol):\n",
    "    name = symbol\n",
    "    try:\n",
    "        name = companies.loc[symbol]['security']\n",
    "    except KeyError:\n",
    "        pass\n",
    "    return name\n",
    "\n",
    "#Función para graficar la acción\n",
    "def plot_stock(symbol, stocks=acciones):\n",
    "    name = get_name(symbol)\n",
    "    stocks[symbol].plot(title=name, label=name, alpha=0.9);"
   ]
  },
  {
   "cell_type": "code",
   "execution_count": null,
   "metadata": {},
   "outputs": [],
   "source": [
    "plot_stock('MSFT')\n",
    "plot_stock('AAPL')\n",
    "plt.title('')\n",
    "plt.legend()"
   ]
  },
  {
   "cell_type": "markdown",
   "metadata": {},
   "source": [
    "#### Calcular los rendimientos para poder comparar las acciones\n",
    "\n",
    "**Qué es un rendimiento?**\n",
    "\n",
    "El rendimiento es uno de los principales indicadores de las inversiones en acciones, mediante el cual se puede evaluar su rentabilidad, viabilidad y compararlas entre sí. \n",
    "\n",
    "El rendimiento se calcula mediante la fórmula:\n",
    "\n",
    "$$\\frac{(\\text{precio de venta - precio de compra}) }{ \\text{precio de compra}} * 100\\%$$"
   ]
  },
  {
   "cell_type": "code",
   "execution_count": null,
   "metadata": {},
   "outputs": [],
   "source": [
    "#Rendimientos\n",
    "start = acciones.iloc[0]\n",
    "rendimientos = (acciones - start) / start"
   ]
  },
  {
   "cell_type": "code",
   "execution_count": null,
   "metadata": {},
   "outputs": [],
   "source": [
    "rendimientos"
   ]
  },
  {
   "cell_type": "code",
   "execution_count": null,
   "metadata": {},
   "outputs": [],
   "source": [
    "#Graficar rendimientos\n",
    "plt.figure(figsize = (20,8))\n",
    "plot_stock('MSFT', stocks=rendimientos)\n",
    "plot_stock('AAPL', stocks=rendimientos)\n",
    "plt.title('')\n",
    "plt.legend();"
   ]
  },
  {
   "cell_type": "markdown",
   "metadata": {},
   "source": [
    "#### ¿Cuáles son las mejores y peores acciones de los últimos 5 años?"
   ]
  },
  {
   "cell_type": "code",
   "execution_count": null,
   "metadata": {},
   "outputs": [],
   "source": [
    "mejores = rendimientos.iloc[-1].sort_values(ascending=False).head()\n",
    "peores = rendimientos.iloc[-1].sort_values().head()"
   ]
  },
  {
   "cell_type": "code",
   "execution_count": null,
   "metadata": {},
   "outputs": [],
   "source": [
    "print('Mejores acciones')\n",
    "names = pd.DataFrame({'name':[get_name(symbol) for symbol in mejores.index.tolist()]}, index = mejores.index)\n",
    "mejores = pd.concat((mejores, names), axis=1)\n",
    "mejores"
   ]
  },
  {
   "cell_type": "code",
   "execution_count": null,
   "metadata": {},
   "outputs": [],
   "source": [
    "plot_stock('NVDA')"
   ]
  },
  {
   "cell_type": "code",
   "execution_count": null,
   "metadata": {},
   "outputs": [],
   "source": [
    "plot_stock('NVDA', stocks=rendimientos)\n",
    "plt.title('Rendimientos de Nvidia');"
   ]
  },
  {
   "cell_type": "code",
   "execution_count": null,
   "metadata": {},
   "outputs": [],
   "source": [
    "print('Peores acciones')\n",
    "names = pd.DataFrame({'name':[get_name(symbol) for symbol in peores.index.tolist()]}, index = peores.index)\n",
    "peores = pd.concat((peores, names), axis=1)\n",
    "peores"
   ]
  },
  {
   "cell_type": "code",
   "execution_count": null,
   "metadata": {},
   "outputs": [],
   "source": [
    "plot_stock('WBA', stocks=rendimientos)\n",
    "plt.title('Rendimientos de WBA');"
   ]
  },
  {
   "cell_type": "markdown",
   "metadata": {},
   "source": [
    "#### Enfocándonos en las acciones del Dow Jones"
   ]
  },
  {
   "cell_type": "code",
   "execution_count": null,
   "metadata": {},
   "outputs": [],
   "source": [
    "dow_acciones = [s for s in dow_data.index if s in acciones.columns]\n",
    "dow_rendimientos = rendimientos[dow_acciones]"
   ]
  },
  {
   "cell_type": "code",
   "execution_count": null,
   "metadata": {},
   "outputs": [],
   "source": [
    "print(dow_acciones)"
   ]
  },
  {
   "cell_type": "code",
   "execution_count": null,
   "metadata": {},
   "outputs": [],
   "source": [
    "mejores_dow = dow_rendimientos.iloc[-1].sort_values(ascending=False).head()\n",
    "peores_dow = dow_rendimientos.iloc[-1].sort_values().head()\n",
    "print('Mejores acciones del Dow Jones')\n",
    "names = pd.DataFrame({'name':[get_name(symbol) for symbol in mejores_dow.index.tolist()]}, index = mejores_dow.index)\n",
    "mejores_dow = pd.concat((mejores_dow, names), axis=1)\n",
    "mejores_dow"
   ]
  },
  {
   "cell_type": "code",
   "execution_count": null,
   "metadata": {},
   "outputs": [],
   "source": [
    "print('Peores acciones del Dow Jones')\n",
    "names = pd.DataFrame({'name':[get_name(symbol) for symbol in peores_dow.index.tolist()]}, index = peores_dow.index)\n",
    "peores_dow = pd.concat((peores_dow, names), axis=1)\n",
    "peores_dow"
   ]
  },
  {
   "cell_type": "code",
   "execution_count": null,
   "metadata": {},
   "outputs": [],
   "source": [
    "plot_stock('BA', stocks=rendimientos);"
   ]
  },
  {
   "cell_type": "markdown",
   "metadata": {},
   "source": [
    "#### Clustering"
   ]
  },
  {
   "cell_type": "code",
   "execution_count": null,
   "metadata": {},
   "outputs": [],
   "source": [
    "dow_rendimientos.head()"
   ]
  },
  {
   "cell_type": "code",
   "execution_count": null,
   "metadata": {},
   "outputs": [],
   "source": [
    "dow_rendimientos.shape"
   ]
  },
  {
   "cell_type": "code",
   "execution_count": null,
   "metadata": {},
   "outputs": [],
   "source": [
    "#gráfica de codo para encontrar el k optimo\n",
    "inertias = []\n",
    "for k in range(2, 15):\n",
    "    kmeans = KMeans(n_clusters=k)\n",
    "    kmeans.fit(dow_rendimientos.T)\n",
    "    inertias.append(kmeans.inertia_)\n",
    "plt.plot(range(2,15), inertias)\n",
    "plt.title('Inertia with dow_returns components');"
   ]
  },
  {
   "cell_type": "code",
   "execution_count": null,
   "metadata": {},
   "outputs": [],
   "source": [
    "#pip install kneed"
   ]
  },
  {
   "cell_type": "code",
   "execution_count": null,
   "metadata": {},
   "outputs": [],
   "source": [
    "from kneed import KneeLocator\n",
    "kl = KneeLocator(\n",
    "     range(2, 15), inertias, curve=\"convex\", direction=\"decreasing\")\n",
    "\n",
    "kl.elbow"
   ]
  },
  {
   "cell_type": "code",
   "execution_count": null,
   "metadata": {},
   "outputs": [],
   "source": [
    "#Aplicar el kmeans\n",
    "kmeans = KMeans(n_clusters=5, random_state=42)\n",
    "kmeans.fit(dow_rendimientos.T);\n",
    "\n",
    "clusters = {}\n",
    "for l in np.unique(kmeans.labels_):\n",
    "    clusters[l] = []\n",
    "\n",
    "#Asignar cada dato a un cluster\n",
    "for i,l in enumerate(kmeans.predict(dow_rendimientos.T)):\n",
    "    clusters[l].append(dow_rendimientos.columns[i])\n",
    "\n",
    "    #Que imprima los clusters    \n",
    "for c in sorted(clusters):\n",
    "    print('Cluster ' + str(c) + ': ', end='')\n",
    "    for symbol in clusters[c]:\n",
    "        print(get_name(symbol) + ' (' + symbol + ')', end=' ### ')\n",
    "    print()\n",
    "    print()"
   ]
  },
  {
   "cell_type": "code",
   "execution_count": null,
   "metadata": {},
   "outputs": [],
   "source": [
    "#Graficar todos los clusters\n",
    "for c in sorted(clusters):\n",
    "    plt.figure(figsize = (20,8))\n",
    "    for symbol in clusters[c]:\n",
    "        plot_stock(symbol, stocks=dow_rendimientos)\n",
    "    plt.title('Cluster de rendimientos' + str(c))\n",
    "    plt.legend()\n",
    "    plt.show()"
   ]
  }
 ],
 "metadata": {
  "kernelspec": {
   "display_name": "iteso",
   "language": "python",
   "name": "python3"
  },
  "language_info": {
   "codemirror_mode": {
    "name": "ipython",
    "version": 3
   },
   "file_extension": ".py",
   "mimetype": "text/x-python",
   "name": "python",
   "nbconvert_exporter": "python",
   "pygments_lexer": "ipython3",
   "version": "3.10.14"
  }
 },
 "nbformat": 4,
 "nbformat_minor": 4
}
